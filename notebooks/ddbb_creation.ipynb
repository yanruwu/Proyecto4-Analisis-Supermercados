{
 "cells": [
  {
   "cell_type": "code",
   "execution_count": 1,
   "metadata": {},
   "outputs": [],
   "source": [
    "import pandas as pd\n",
    "import sys\n",
    "sys.path.append(\"..\")\n",
    "from src.query_funcs import *"
   ]
  },
  {
   "cell_type": "markdown",
   "metadata": {},
   "source": [
    "## Formateo de df para las distintas tablas de la BBDD"
   ]
  },
  {
   "cell_type": "code",
   "execution_count": 2,
   "metadata": {},
   "outputs": [],
   "source": [
    "df = pd.read_csv(\"../datos/df_complete.csv\", index_col=0).fillna('Girasol')"
   ]
  },
  {
   "cell_type": "markdown",
   "metadata": {},
   "source": [
    "Empezamos con la tabla de categorías, la cual solo tendrá el id (PK) de la categoría y su nombre. En este generamos los PKs desde python, sin tener que depender de la generación serial de SQL."
   ]
  },
  {
   "cell_type": "code",
   "execution_count": 3,
   "metadata": {},
   "outputs": [],
   "source": [
    "cat_enum = enumerate(df[\"Categoria\"].unique(), start=1)\n",
    "cat_table =list(cat_enum)\n",
    "cat_enum = enumerate(df[\"Categoria\"].unique(), start=1)\n",
    "cat_dict = dict(cat_enum)"
   ]
  },
  {
   "cell_type": "markdown",
   "metadata": {},
   "source": [
    "Los valores a introducir serán entonces:"
   ]
  },
  {
   "cell_type": "code",
   "execution_count": 4,
   "metadata": {},
   "outputs": [
    {
     "data": {
      "text/plain": [
       "[(1, 'Aceite de girasol'), (2, 'Aceite de oliva'), (3, 'Leche')]"
      ]
     },
     "execution_count": 4,
     "metadata": {},
     "output_type": "execute_result"
    }
   ],
   "source": [
    "cat_table"
   ]
  },
  {
   "cell_type": "markdown",
   "metadata": {},
   "source": [
    "Creamos un mapper que nos permita asociar cada valor a su id."
   ]
  },
  {
   "cell_type": "code",
   "execution_count": 5,
   "metadata": {},
   "outputs": [
    {
     "data": {
      "text/plain": [
       "{'Aceite de girasol': 1, 'Aceite de oliva': 2, 'Leche': 3}"
      ]
     },
     "execution_count": 5,
     "metadata": {},
     "output_type": "execute_result"
    }
   ],
   "source": [
    "cat_mapper = dict()\n",
    "for k,v in cat_dict.items():\n",
    "    cat_mapper[v] = k\n",
    "cat_mapper"
   ]
  },
  {
   "cell_type": "markdown",
   "metadata": {},
   "source": [
    "Ahora continuamos con subcategorías, la cual contendrá una columna con el id (PK), otra con el nombre, y una con el id de su categoría correspondiente (FK)."
   ]
  },
  {
   "cell_type": "code",
   "execution_count": 6,
   "metadata": {},
   "outputs": [
    {
     "data": {
      "text/plain": [
       "{1: 'Girasol',\n",
       " 2: 'Suave e intenso',\n",
       " 3: 'Virgen',\n",
       " 4: 'Virgen extra',\n",
       " 5: 'Enriquecida',\n",
       " 6: 'Entera, semi o desnatada',\n",
       " 7: 'Sin lactosa'}"
      ]
     },
     "execution_count": 6,
     "metadata": {},
     "output_type": "execute_result"
    }
   ],
   "source": [
    "subcat_enum = enumerate(df[\"Subcategoria\"].unique(), start=1)\n",
    "subcat_dict = dict(subcat_enum)\n",
    "subcat_dict"
   ]
  },
  {
   "cell_type": "code",
   "execution_count": 7,
   "metadata": {},
   "outputs": [
    {
     "data": {
      "text/html": [
       "<div>\n",
       "<style scoped>\n",
       "    .dataframe tbody tr th:only-of-type {\n",
       "        vertical-align: middle;\n",
       "    }\n",
       "\n",
       "    .dataframe tbody tr th {\n",
       "        vertical-align: top;\n",
       "    }\n",
       "\n",
       "    .dataframe thead th {\n",
       "        text-align: right;\n",
       "    }\n",
       "</style>\n",
       "<table border=\"1\" class=\"dataframe\">\n",
       "  <thead>\n",
       "    <tr style=\"text-align: right;\">\n",
       "      <th></th>\n",
       "      <th>Subcategoria</th>\n",
       "      <th>Categoria</th>\n",
       "    </tr>\n",
       "  </thead>\n",
       "  <tbody>\n",
       "    <tr>\n",
       "      <th>0</th>\n",
       "      <td>Girasol</td>\n",
       "      <td>1</td>\n",
       "    </tr>\n",
       "    <tr>\n",
       "      <th>214</th>\n",
       "      <td>Suave e intenso</td>\n",
       "      <td>2</td>\n",
       "    </tr>\n",
       "    <tr>\n",
       "      <th>468</th>\n",
       "      <td>Virgen</td>\n",
       "      <td>2</td>\n",
       "    </tr>\n",
       "    <tr>\n",
       "      <th>722</th>\n",
       "      <td>Virgen extra</td>\n",
       "      <td>2</td>\n",
       "    </tr>\n",
       "    <tr>\n",
       "      <th>1351</th>\n",
       "      <td>Enriquecida</td>\n",
       "      <td>3</td>\n",
       "    </tr>\n",
       "    <tr>\n",
       "      <th>1870</th>\n",
       "      <td>Entera, semi o desnatada</td>\n",
       "      <td>3</td>\n",
       "    </tr>\n",
       "    <tr>\n",
       "      <th>3412</th>\n",
       "      <td>Sin lactosa</td>\n",
       "      <td>3</td>\n",
       "    </tr>\n",
       "  </tbody>\n",
       "</table>\n",
       "</div>"
      ],
      "text/plain": [
       "                  Subcategoria  Categoria\n",
       "0                      Girasol          1\n",
       "214            Suave e intenso          2\n",
       "468                     Virgen          2\n",
       "722               Virgen extra          2\n",
       "1351               Enriquecida          3\n",
       "1870  Entera, semi o desnatada          3\n",
       "3412               Sin lactosa          3"
      ]
     },
     "execution_count": 7,
     "metadata": {},
     "output_type": "execute_result"
    }
   ],
   "source": [
    "subcat_cat_df = df[[\"Subcategoria\",\"Categoria\"]].drop_duplicates()\n",
    "subcat_cat_df[\"Categoria\"] = subcat_cat_df[\"Categoria\"].map(cat_mapper)\n",
    "subcat_cat_df"
   ]
  },
  {
   "cell_type": "markdown",
   "metadata": {},
   "source": [
    "Así nos quedaría la lista de tuplas a introducir."
   ]
  },
  {
   "cell_type": "code",
   "execution_count": 8,
   "metadata": {},
   "outputs": [
    {
     "data": {
      "text/plain": [
       "[(1, 'Girasol', 1),\n",
       " (2, 'Suave e intenso', 2),\n",
       " (3, 'Virgen', 2),\n",
       " (4, 'Virgen extra', 2),\n",
       " (5, 'Enriquecida', 3),\n",
       " (6, 'Entera, semi o desnatada', 3),\n",
       " (7, 'Sin lactosa', 3)]"
      ]
     },
     "execution_count": 8,
     "metadata": {},
     "output_type": "execute_result"
    }
   ],
   "source": [
    "subcat_table = []\n",
    "for i in range(len(df[\"Subcategoria\"].unique())):\n",
    "    subcat_table.append(tuple([i+1,subcat_cat_df.values[i][0], subcat_cat_df.values[i][1]]))\n",
    "subcat_table"
   ]
  },
  {
   "cell_type": "markdown",
   "metadata": {},
   "source": [
    "Y el mapper para futuro uso."
   ]
  },
  {
   "cell_type": "code",
   "execution_count": 9,
   "metadata": {},
   "outputs": [
    {
     "data": {
      "text/plain": [
       "{'Girasol': 1,\n",
       " 'Suave e intenso': 2,\n",
       " 'Virgen': 3,\n",
       " 'Virgen extra': 4,\n",
       " 'Enriquecida': 5,\n",
       " 'Entera, semi o desnatada': 6,\n",
       " 'Sin lactosa': 7}"
      ]
     },
     "execution_count": 9,
     "metadata": {},
     "output_type": "execute_result"
    }
   ],
   "source": [
    "subcat_mapper = dict()\n",
    "for i in subcat_table:\n",
    "    subcat_mapper[i[1]] = i[0]\n",
    "\n",
    "subcat_mapper"
   ]
  },
  {
   "cell_type": "markdown",
   "metadata": {},
   "source": [
    "Continuamos con los supermercados. Esta tabla es como la de categorías, id (PK) y nombre del supermercado."
   ]
  },
  {
   "cell_type": "code",
   "execution_count": 10,
   "metadata": {},
   "outputs": [
    {
     "data": {
      "text/plain": [
       "[(1, 'mercadona'),\n",
       " (2, 'carrefour'),\n",
       " (3, 'eroski'),\n",
       " (4, 'dia'),\n",
       " (5, 'hipercor'),\n",
       " (6, 'alcampo')]"
      ]
     },
     "execution_count": 10,
     "metadata": {},
     "output_type": "execute_result"
    }
   ],
   "source": [
    "super_table = list(enumerate(df[\"Supermercado\"].unique(), start=1))\n",
    "super_table"
   ]
  },
  {
   "cell_type": "markdown",
   "metadata": {},
   "source": [
    "Y de nuevo un mapper."
   ]
  },
  {
   "cell_type": "code",
   "execution_count": 11,
   "metadata": {},
   "outputs": [
    {
     "data": {
      "text/plain": [
       "{'mercadona': 1,\n",
       " 'carrefour': 2,\n",
       " 'eroski': 3,\n",
       " 'dia': 4,\n",
       " 'hipercor': 5,\n",
       " 'alcampo': 6}"
      ]
     },
     "execution_count": 11,
     "metadata": {},
     "output_type": "execute_result"
    }
   ],
   "source": [
    "super_dict = dict(super_table)\n",
    "super_mapper = dict()\n",
    "for k,v in super_dict.items():\n",
    "    super_mapper[v] = k\n",
    "    \n",
    "super_mapper"
   ]
  },
  {
   "cell_type": "markdown",
   "metadata": {},
   "source": [
    "Seguimos con los productos. Esta tabla consistirá en un id de producto (PK) generado en el script, el nombre del producto, la subcategoría (FK) y el supermercado (FK). No añadimos categoría porque ya está asociada con subcategoría, e incluimos supermercado aquí y no en la tabla de registros ya que al comprobar los duplicados, no existen artículos compartidos entre supermercados (al menos viendo el nombre). Puede que haya productos compartidos, pero cada supermercado lo llama de forma distinta."
   ]
  },
  {
   "cell_type": "code",
   "execution_count": 12,
   "metadata": {},
   "outputs": [
    {
     "data": {
      "text/html": [
       "<div>\n",
       "<style scoped>\n",
       "    .dataframe tbody tr th:only-of-type {\n",
       "        vertical-align: middle;\n",
       "    }\n",
       "\n",
       "    .dataframe tbody tr th {\n",
       "        vertical-align: top;\n",
       "    }\n",
       "\n",
       "    .dataframe thead th {\n",
       "        text-align: right;\n",
       "    }\n",
       "</style>\n",
       "<table border=\"1\" class=\"dataframe\">\n",
       "  <thead>\n",
       "    <tr style=\"text-align: right;\">\n",
       "      <th></th>\n",
       "      <th>index</th>\n",
       "      <th>Nombre</th>\n",
       "      <th>Subcategoria</th>\n",
       "      <th>Supermercado</th>\n",
       "    </tr>\n",
       "  </thead>\n",
       "  <tbody>\n",
       "    <tr>\n",
       "      <th>0</th>\n",
       "      <td>0</td>\n",
       "      <td>Aceite de girasol refinado 0,2º Hacendado 1 l....</td>\n",
       "      <td>Girasol</td>\n",
       "      <td>mercadona</td>\n",
       "    </tr>\n",
       "    <tr>\n",
       "      <th>1</th>\n",
       "      <td>1</td>\n",
       "      <td>Aceite de girasol refinado 0,2º Hacendado 5 l....</td>\n",
       "      <td>Girasol</td>\n",
       "      <td>mercadona</td>\n",
       "    </tr>\n",
       "    <tr>\n",
       "      <th>2</th>\n",
       "      <td>2</td>\n",
       "      <td>Aceite de oliva intenso Hacendado 3 l. en Merc...</td>\n",
       "      <td>Suave e intenso</td>\n",
       "      <td>mercadona</td>\n",
       "    </tr>\n",
       "    <tr>\n",
       "      <th>3</th>\n",
       "      <td>3</td>\n",
       "      <td>Aceite de oliva suave Hacendado 3 l. en Mercadona</td>\n",
       "      <td>Suave e intenso</td>\n",
       "      <td>mercadona</td>\n",
       "    </tr>\n",
       "    <tr>\n",
       "      <th>4</th>\n",
       "      <td>4</td>\n",
       "      <td>Aceite de oliva virgen Hacendado 1 l. en Merca...</td>\n",
       "      <td>Virgen</td>\n",
       "      <td>mercadona</td>\n",
       "    </tr>\n",
       "  </tbody>\n",
       "</table>\n",
       "</div>"
      ],
      "text/plain": [
       "   index                                             Nombre     Subcategoria  \\\n",
       "0      0  Aceite de girasol refinado 0,2º Hacendado 1 l....          Girasol   \n",
       "1      1  Aceite de girasol refinado 0,2º Hacendado 5 l....          Girasol   \n",
       "2      2  Aceite de oliva intenso Hacendado 3 l. en Merc...  Suave e intenso   \n",
       "3      3  Aceite de oliva suave Hacendado 3 l. en Mercadona  Suave e intenso   \n",
       "4      4  Aceite de oliva virgen Hacendado 1 l. en Merca...           Virgen   \n",
       "\n",
       "  Supermercado  \n",
       "0    mercadona  \n",
       "1    mercadona  \n",
       "2    mercadona  \n",
       "3    mercadona  \n",
       "4    mercadona  "
      ]
     },
     "execution_count": 12,
     "metadata": {},
     "output_type": "execute_result"
    }
   ],
   "source": [
    "df[[\"Nombre\", \"Subcategoria\", \"Supermercado\"]].drop_duplicates().reset_index(drop = True).reset_index().head()"
   ]
  },
  {
   "cell_type": "code",
   "execution_count": 13,
   "metadata": {},
   "outputs": [],
   "source": [
    "productos_df = df[[\"Nombre\", \"Subcategoria\", \"Supermercado\"]].drop_duplicates().reset_index(drop = True).reset_index()\n",
    "productos_df[\"Subcategoria\"] = productos_df[\"Subcategoria\"].map(subcat_mapper)\n",
    "productos_df[\"Supermercado\"] = productos_df[\"Supermercado\"].map(super_mapper)\n",
    "productos_df[\"index\"] = productos_df[\"index\"].map(lambda x:x+1)"
   ]
  },
  {
   "cell_type": "code",
   "execution_count": 14,
   "metadata": {},
   "outputs": [],
   "source": [
    "productos_table = [tuple(prod) for prod in productos_df.values]"
   ]
  },
  {
   "cell_type": "markdown",
   "metadata": {},
   "source": [
    "La lista de tuplas quedaría como:"
   ]
  },
  {
   "cell_type": "code",
   "execution_count": 15,
   "metadata": {},
   "outputs": [
    {
     "data": {
      "text/plain": [
       "[(1, 'Aceite de girasol refinado 0,2º Hacendado 1 l. en Mercadona', 1, 1),\n",
       " (2, 'Aceite de girasol refinado 0,2º Hacendado 5 l. en Mercadona', 1, 1),\n",
       " (3, 'Aceite de oliva intenso Hacendado 3 l. en Mercadona', 2, 1),\n",
       " (4, 'Aceite de oliva suave Hacendado 3 l. en Mercadona', 2, 1),\n",
       " (5, 'Aceite de oliva virgen Hacendado 1 l. en Mercadona', 3, 1)]"
      ]
     },
     "execution_count": 15,
     "metadata": {},
     "output_type": "execute_result"
    }
   ],
   "source": [
    "productos_table[:5]"
   ]
  },
  {
   "cell_type": "markdown",
   "metadata": {},
   "source": [
    "Creamos otro mapper para los productos."
   ]
  },
  {
   "cell_type": "code",
   "execution_count": 16,
   "metadata": {},
   "outputs": [],
   "source": [
    "prod_mapper = dict(productos_df[[\"Nombre\",\"index\"]].values)"
   ]
  },
  {
   "cell_type": "markdown",
   "metadata": {},
   "source": [
    "Por último, la tabla de registros. Esta contendrá el id de registro (PK), el id de producto (FK), el precio, la variación absoluta y la variación percentual."
   ]
  },
  {
   "cell_type": "code",
   "execution_count": 17,
   "metadata": {},
   "outputs": [
    {
     "data": {
      "text/plain": [
       "[(1, '2024-07-12', 1, 1.45, 0.0, 0.0),\n",
       " (2, '2024-07-13', 1, 1.45, 0.0, 0.0),\n",
       " (3, '2024-07-14', 1, 1.45, 0.0, 0.0),\n",
       " (4, '2024-07-15', 1, 1.45, 0.0, 0.0),\n",
       " (5, '2024-07-16', 1, 1.45, 0.0, 0.0)]"
      ]
     },
     "execution_count": 17,
     "metadata": {},
     "output_type": "execute_result"
    }
   ],
   "source": [
    "df_registros = df[[\"Día\",\"Nombre\", \"Precio (€)\", \"abs_variacion\", \"precent_variacion\"]].reset_index()\n",
    "df_registros[\"Nombre\"] = df_registros[\"Nombre\"].map(prod_mapper)\n",
    "df_registros[\"index\"] = df_registros[\"index\"].map(lambda x:x+1)\n",
    "registros_table = [tuple(r) for r in df_registros.values]\n",
    "registros_table[:5]"
   ]
  },
  {
   "cell_type": "markdown",
   "metadata": {},
   "source": [
    "## Creación de Tablas"
   ]
  },
  {
   "cell_type": "code",
   "execution_count": 190,
   "metadata": {},
   "outputs": [],
   "source": []
  },
  {
   "cell_type": "code",
   "execution_count": 18,
   "metadata": {},
   "outputs": [
    {
     "name": "stdout",
     "output_type": "stream",
     "text": [
      "Done!\n"
     ]
    }
   ],
   "source": [
    "query = '''\n",
    "CREATE TABLE if not exists supermercado(\n",
    "        id_supermercado int primary key,\n",
    "        nombre varchar(100) not null);\n",
    "\n",
    "CREATE TABLE if not exists categorias(\n",
    "        id_categoria int primary key,\n",
    "        nombre varchar(100) not null);\n",
    "\n",
    "CREATE TABLE if not exists subcategorias(\n",
    "        id_subcat int primary key,\n",
    "        nombre varchar(100) not null,\n",
    "        id_categoria int not null,\n",
    "        foreign key (id_categoria)\n",
    "                references categorias(id_categoria)\n",
    "                on delete restrict\n",
    "                on update cascade);\n",
    "\n",
    "CREATE TABLE if not exists productos(\n",
    "        id_producto int primary key,\n",
    "        nombre varchar(1000) not null,\n",
    "        id_subcat int not null,\n",
    "        id_supermercado int not null,\n",
    "        foreign key (id_subcat)\n",
    "                references subcategorias(id_subcat)\n",
    "                on delete restrict\n",
    "                on update cascade,\n",
    "        foreign key (id_supermercado)\n",
    "                references supermercado(id_supermercado)\n",
    "                on delete restrict\n",
    "                on update cascade);\n",
    "\n",
    "CREATE TABLE if not exists registros(\n",
    "        id_registro int primary key,\n",
    "        fecha date not null,\n",
    "        id_producto int not null,\n",
    "        precio decimal(10,2),\n",
    "        var_abs decimal(10,2),\n",
    "        var_porc decimal(10,2),\n",
    "        foreign key (id_producto)\n",
    "                references productos(id_producto)\n",
    "                on delete restrict\n",
    "                on update cascade);        \n",
    "        \n",
    "        '''\n",
    "\n",
    "conexion = conectar()\n",
    "query_commit(conexion, query_text=query)"
   ]
  },
  {
   "cell_type": "code",
   "execution_count": null,
   "metadata": {},
   "outputs": [],
   "source": []
  },
  {
   "cell_type": "code",
   "execution_count": 19,
   "metadata": {},
   "outputs": [
    {
     "name": "stdout",
     "output_type": "stream",
     "text": [
      "Done!\n"
     ]
    }
   ],
   "source": [
    "conexion = conectar()\n",
    "query_commit_many(conexion, '''insert into supermercado\n",
    "                                values (%s,%s)''', super_table)"
   ]
  },
  {
   "cell_type": "code",
   "execution_count": 20,
   "metadata": {},
   "outputs": [
    {
     "name": "stdout",
     "output_type": "stream",
     "text": [
      "Done!\n"
     ]
    }
   ],
   "source": [
    "conexion = conectar()\n",
    "query_commit_many(conexion, '''insert into categorias\n",
    "                                values (%s,%s)''', cat_table)"
   ]
  },
  {
   "cell_type": "code",
   "execution_count": 21,
   "metadata": {},
   "outputs": [
    {
     "name": "stdout",
     "output_type": "stream",
     "text": [
      "Done!\n"
     ]
    }
   ],
   "source": [
    "conexion = conectar()\n",
    "query_commit_many(conexion, '''insert into subcategorias\n",
    "                                values (%s,%s,%s)''', subcat_table)"
   ]
  },
  {
   "cell_type": "code",
   "execution_count": 22,
   "metadata": {},
   "outputs": [
    {
     "name": "stdout",
     "output_type": "stream",
     "text": [
      "Done!\n"
     ]
    }
   ],
   "source": [
    "conexion = conectar()\n",
    "query_commit_many(conexion, '''insert into productos\n",
    "                                values (%s,%s,%s,%s)''', productos_table)"
   ]
  },
  {
   "cell_type": "code",
   "execution_count": 23,
   "metadata": {},
   "outputs": [
    {
     "name": "stdout",
     "output_type": "stream",
     "text": [
      "Done!\n"
     ]
    }
   ],
   "source": [
    "conexion = conectar()\n",
    "query_commit_many(conexion, '''insert into registros\n",
    "                                values (%s,%s,%s,%s,%s,%s)''', registros_table)"
   ]
  }
 ],
 "metadata": {
  "kernelspec": {
   "display_name": "Python 3",
   "language": "python",
   "name": "python3"
  },
  "language_info": {
   "codemirror_mode": {
    "name": "ipython",
    "version": 3
   },
   "file_extension": ".py",
   "mimetype": "text/x-python",
   "name": "python",
   "nbconvert_exporter": "python",
   "pygments_lexer": "ipython3",
   "version": "3.11.9"
  }
 },
 "nbformat": 4,
 "nbformat_minor": 2
}
