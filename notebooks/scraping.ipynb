{
 "cells": [
  {
   "cell_type": "code",
   "execution_count": 1,
   "metadata": {},
   "outputs": [],
   "source": [
    "import pandas as pd\n",
    "from tqdm import tqdm\n",
    "import sys\n",
    "sys.path.append(\"..\")\n",
    "from src.funcs import *"
   ]
  },
  {
   "cell_type": "code",
   "execution_count": 243,
   "metadata": {},
   "outputs": [],
   "source": [
    "# async def get_cat_links(session, url):\n",
    "#     categorias_url = []\n",
    "#     async with session.get(url) as response:\n",
    "#         html = await response.text()\n",
    "#         soup = BeautifulSoup(html, 'html.parser')\n",
    "#         for categoria in soup.findAll('div', class_=\"card h-100\"):\n",
    "#             categorias_url.append(categoria.find('a').get(\"href\"))\n",
    "#     return categorias_url\n",
    "\n",
    "# async def main(urls):\n",
    "#     async with aiohttp.ClientSession() as session:\n",
    "#         tasks = [get_cat_links(session, url) for url in urls]\n",
    "#         list_cats = await asyncio.gather(*tasks)\n",
    "#     return list_cats\n",
    "\n",
    "# urls = links_list\n",
    "# await main(urls)"
   ]
  },
  {
   "cell_type": "code",
   "execution_count": 244,
   "metadata": {},
   "outputs": [],
   "source": [
    "supermercados = [\"mercadona\", \"carrefour\", \"eroski\", \"dia\", \"hipercor\", \"alcampo\"]"
   ]
  },
  {
   "cell_type": "code",
   "execution_count": 242,
   "metadata": {},
   "outputs": [],
   "source": [
    "superurls = [f'https://super.facua.org/{s}/' for s in supermercados]"
   ]
  },
  {
   "cell_type": "code",
   "execution_count": 258,
   "metadata": {},
   "outputs": [
    {
     "name": "stderr",
     "output_type": "stream",
     "text": [
      "100%|██████████| 6/6 [05:20<00:00, 53.35s/it]\n"
     ]
    }
   ],
   "source": [
    "dfs_super_list = []\n",
    "supermercados = [\"mercadona\", \"carrefour\", \"eroski\", \"dia\", \"hipercor\", \"alcampo\"]\n",
    "superurls = [f'https://super.facua.org/{s}/' for s in supermercados]\n",
    "for i in tqdm(range(len(supermercados))):\n",
    "    dfs_cat_list = []\n",
    "    urls_cats, cats = get_cats(superurls[i])\n",
    "    for url2, cat in zip(urls_cats, cats):\n",
    "        # print(\"url2\")\n",
    "        dfs_subcat_list = []\n",
    "        urls_subcat, subcats = get_cats(url2)\n",
    "        if not urls_subcat and not subcats:\n",
    "            urls_hist = get_hist(url2)\n",
    "            dfs_hist_list = []\n",
    "            for url3 in urls_hist:\n",
    "                # print(\"url3\")\n",
    "                df_producto = get_tab(url3)\n",
    "                dfs_hist_list.append(df_producto)\n",
    "            df_hist = pd.concat(dfs_hist_list)\n",
    "            df_hist[\"Subcategoria\"] = None\n",
    "            dfs_subcat_list.append(df_hist)\n",
    "        else:\n",
    "            for url3, subcat in zip(urls_subcat, subcats):\n",
    "                # print(\"url3\")\n",
    "                dfs_hist_list = []\n",
    "                urls_hist = get_hist(url3)\n",
    "                for url4 in urls_hist:\n",
    "                    # print(\"url4\")\n",
    "                    df_producto = get_tab(url4)\n",
    "                    dfs_hist_list.append(df_producto)\n",
    "                df_hist = pd.concat(dfs_hist_list)\n",
    "                df_hist[\"Subcategoria\"] = subcat\n",
    "                dfs_subcat_list.append(df_hist)\n",
    "                # print(\"helo\\n\", dfs_subcat_list)\n",
    "            # print(\"out\")\n",
    "        df_subcat = pd.concat(dfs_subcat_list)\n",
    "        df_subcat[\"Categoria\"] = cat\n",
    "        dfs_cat_list.append(df_subcat)\n",
    "    df_cat = pd.concat(dfs_cat_list)\n",
    "    df_cat[\"Supermercado\"] = supermercados[i]\n",
    "    dfs_super_list.append(df_cat)    "
   ]
  },
  {
   "cell_type": "code",
   "execution_count": 259,
   "metadata": {},
   "outputs": [],
   "source": [
    "df_complete = pd.concat(dfs_super_list)"
   ]
  },
  {
   "cell_type": "code",
   "execution_count": 303,
   "metadata": {},
   "outputs": [],
   "source": [
    "df_complete[\"Precio (€)\"] = df_complete[\"Precio (€)\"].str.replace(\",\",\".\").astype(float)"
   ]
  },
  {
   "cell_type": "code",
   "execution_count": 320,
   "metadata": {},
   "outputs": [],
   "source": [
    "df_complete = pd.concat([df_complete,df_complete[\"Variación\"].str.replace(\"=\",\"0\").str.replace(\",\",\".\").str.replace(\"(\",\"\").str.replace(\")\",\"\").str.replace(\"%\",\"\").str.split(expand=True).fillna(\"0\")], axis=1)"
   ]
  },
  {
   "cell_type": "code",
   "execution_count": 327,
   "metadata": {},
   "outputs": [],
   "source": [
    "df_complete = df_complete.rename({0: 'abs_variacion', 1: 'precent_variacion'}, axis=1).drop(columns='Variación')"
   ]
  },
  {
   "cell_type": "code",
   "execution_count": 330,
   "metadata": {},
   "outputs": [
    {
     "data": {
      "text/plain": [
       "Index(['Día', 'Precio (€)', 'Nombre', 'Subcategoria', 'Categoria',\n",
       "       'Supermercado', 'abs_variacion', 'precent_variacion'],\n",
       "      dtype='object')"
      ]
     },
     "execution_count": 330,
     "metadata": {},
     "output_type": "execute_result"
    }
   ],
   "source": [
    "df_complete.columns"
   ]
  },
  {
   "cell_type": "code",
   "execution_count": 333,
   "metadata": {},
   "outputs": [],
   "source": [
    "columnas = df_complete.columns\n",
    "orden = [2, 0, 1, -2, -1, 3, 4, 5]\n",
    "columnas_reordenadas = [columnas[i] for i in orden]"
   ]
  },
  {
   "cell_type": "code",
   "execution_count": 339,
   "metadata": {},
   "outputs": [],
   "source": [
    "df_complete = df_complete.reindex(columns=columnas_reordenadas).reset_index(drop=True)"
   ]
  },
  {
   "cell_type": "code",
   "execution_count": 346,
   "metadata": {},
   "outputs": [],
   "source": [
    "df_complete[\"abs_variacion\"] = df_complete[\"abs_variacion\"].astype(float)\n",
    "df_complete[\"precent_variacion\"] = df_complete[\"precent_variacion\"].astype(float)"
   ]
  },
  {
   "cell_type": "code",
   "execution_count": 353,
   "metadata": {},
   "outputs": [
    {
     "name": "stderr",
     "output_type": "stream",
     "text": [
      "C:\\Users\\yanru\\AppData\\Local\\Temp\\ipykernel_28896\\2999854460.py:1: UserWarning: Parsing dates in %d/%m/%Y format when dayfirst=False (the default) was specified. Pass `dayfirst=True` or specify a format to silence this warning.\n",
      "  df_complete[\"Día\"] = df_complete[\"Día\"].map(pd.to_datetime)\n"
     ]
    }
   ],
   "source": [
    "df_complete[\"Día\"] = df_complete[\"Día\"].map(pd.to_datetime)"
   ]
  },
  {
   "cell_type": "code",
   "execution_count": 357,
   "metadata": {},
   "outputs": [],
   "source": [
    "df_complete.to_csv('datos/df_complete.csv')"
   ]
  }
 ],
 "metadata": {
  "kernelspec": {
   "display_name": "Python 3",
   "language": "python",
   "name": "python3"
  },
  "language_info": {
   "codemirror_mode": {
    "name": "ipython",
    "version": 3
   },
   "file_extension": ".py",
   "mimetype": "text/x-python",
   "name": "python",
   "nbconvert_exporter": "python",
   "pygments_lexer": "ipython3",
   "version": "3.11.9"
  }
 },
 "nbformat": 4,
 "nbformat_minor": 2
}
