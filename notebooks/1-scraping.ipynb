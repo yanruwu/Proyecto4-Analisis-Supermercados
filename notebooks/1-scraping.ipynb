{
 "cells": [
  {
   "cell_type": "code",
   "execution_count": 1,
   "metadata": {},
   "outputs": [],
   "source": [
    "import pandas as pd\n",
    "from tqdm import tqdm\n",
    "import sys\n",
    "sys.path.append(\"..\")\n",
    "from src.scraping_funcs import *"
   ]
  },
  {
   "cell_type": "markdown",
   "metadata": {},
   "source": [
    "Definimos una lista de supermercados y se generan las URLs correspondientes para acceder a la información en la página de FACUA."
   ]
  },
  {
   "cell_type": "code",
   "execution_count": 2,
   "metadata": {},
   "outputs": [],
   "source": [
    "supermercados = [\"mercadona\", \"carrefour\", \"eroski\", \"dia\", \"hipercor\", \"alcampo\"]"
   ]
  },
  {
   "cell_type": "code",
   "execution_count": 3,
   "metadata": {},
   "outputs": [],
   "source": [
    "superurls = [f'https://super.facua.org/{s}/' for s in supermercados]"
   ]
  },
  {
   "cell_type": "markdown",
   "metadata": {},
   "source": [
    "Ahora para el scraping realizamos una especie de función Matrioska, donde vamos a ir yendo por niveles, extrayendo por capas los links que se irán usando en los procesos posteriores hasta dar con las tablas."
   ]
  },
  {
   "cell_type": "code",
   "execution_count": 4,
   "metadata": {},
   "outputs": [
    {
     "name": "stderr",
     "output_type": "stream",
     "text": [
      "100%|██████████| 6/6 [09:42<00:00, 97.06s/it] \n"
     ]
    }
   ],
   "source": [
    "dfs_super_list = []  # Lista donde iremos almacenando todos los registros de los productos de todos los supermercados\n",
    "supermercados = [\"mercadona\", \"carrefour\", \"eroski\", \"dia\", \"hipercor\", \"alcampo\"]  # Lista de nombres de supermercados\n",
    "# Generamos URLs para cada supermercado\n",
    "superurls = [f'https://super.facua.org/{s}/' for s in supermercados]\n",
    "\n",
    "# Iteramos sobre la lista de supermercados\n",
    "for i in tqdm(range(len(supermercados))):\n",
    "    dfs_cat_list = []  # Lista para almacenar los DataFrames de las categorías de cada supermercado\n",
    "    \n",
    "    # Obtenemos las URLs y nombres de las categorías para el supermercado actual\n",
    "    urls_cats, cats = get_cats(superurls[i])\n",
    "    \n",
    "    # Iteramos sobre las URLs de categorías y sus nombres\n",
    "    for url2, cat in zip(urls_cats, cats):\n",
    "        dfs_subcat_list = []  # Lista para almacenar los DataFrames de las subcategorías\n",
    "        \n",
    "        # Obtenemos las URLs y nombres de las subcategorías para la categoría actual\n",
    "        urls_subcat, subcats = get_cats(url2)\n",
    "        \n",
    "        # Verificamos si no hay subcategorías\n",
    "        if not urls_subcat and not subcats:  # Condición que se aplica para el caso de que no existan subcategorías\n",
    "            urls_hist = get_hist(url2)  # Obtenemos las URLs históricas de productos\n",
    "            dfs_hist_list = []  # Lista para almacenar DataFrames de productos históricos\n",
    "            \n",
    "            # Iteramos sobre las URLs históricas\n",
    "            for url3 in urls_hist:\n",
    "                df_producto = get_tab(url3)  # Obtenemos la tabla de productos de la URL\n",
    "                dfs_hist_list.append(df_producto)  # Añadimos el DataFrame a la lista\n",
    "            \n",
    "            df_hist = pd.concat(dfs_hist_list)  # Concatenamos todos los DataFrames de productos históricos\n",
    "            df_hist[\"Subcategoria\"] = None  # Asignamos None a la columna de subcategoría, ya que no hay subcategorías\n",
    "            dfs_subcat_list.append(df_hist)  # Añadimos el DataFrame histórico a la lista de subcategorías\n",
    "        else:\n",
    "            # Si hay subcategorías, iteramos sobre ellas\n",
    "            for url3, subcat in zip(urls_subcat, subcats):\n",
    "                dfs_hist_list = []  # Lista para almacenar DataFrames de productos históricos por subcategoría\n",
    "                \n",
    "                urls_hist = get_hist(url3)  # Obtenemos las URLs históricas para la subcategoría\n",
    "                for url4 in urls_hist:  # Iteramos sobre las URLs históricas\n",
    "                    df_producto = get_tab(url4)  # Obtenemos la tabla de productos de la URL\n",
    "                    dfs_hist_list.append(df_producto)  # Añadimos el DataFrame a la lista\n",
    "                \n",
    "                df_hist = pd.concat(dfs_hist_list)  # Concatenamos todos los DataFrames de productos históricos\n",
    "                df_hist[\"Subcategoria\"] = subcat  # Asignamos el nombre de la subcategoría\n",
    "                dfs_subcat_list.append(df_hist)  # Añadimos el DataFrame a la lista de subcategorías\n",
    "\n",
    "        # Concatenamos todos los DataFrames de subcategorías para la categoría actual\n",
    "        df_subcat = pd.concat(dfs_subcat_list)\n",
    "        df_subcat[\"Categoria\"] = cat  # Asignamos el nombre de la categoría\n",
    "        dfs_cat_list.append(df_subcat)  # Añadimos el DataFrame de subcategorías a la lista de categorías\n",
    "    \n",
    "    # Concatenamos todos los DataFrames de categorías para el supermercado actual\n",
    "    df_cat = pd.concat(dfs_cat_list)\n",
    "    df_cat[\"Supermercado\"] = supermercados[i]  # Asignamos el nombre del supermercado\n",
    "    dfs_super_list.append(df_cat)  # Añadimos el DataFrame de categorías a la lista de supermercados\n"
   ]
  },
  {
   "cell_type": "code",
   "execution_count": 5,
   "metadata": {},
   "outputs": [],
   "source": [
    "df_complete = pd.concat(dfs_super_list)"
   ]
  },
  {
   "cell_type": "markdown",
   "metadata": {},
   "source": [
    "Ahora procedemos con la limpieza del DataFrame."
   ]
  },
  {
   "cell_type": "code",
   "execution_count": 6,
   "metadata": {},
   "outputs": [],
   "source": [
    "df_complete[\"Precio (€)\"] = df_complete[\"Precio (€)\"].str.replace(\",\",\".\").astype(float) # Cambiamos a decimalpoint y pasamos a float"
   ]
  },
  {
   "cell_type": "code",
   "execution_count": 7,
   "metadata": {},
   "outputs": [],
   "source": [
    "# Sustituimos = por 0, cambiamos a decimalpoint y eliminamos paréntesis. Rellenamos nulos con 0 y expandimos.\n",
    "df_complete = pd.concat([df_complete,df_complete[\"Variación\"].str.replace(\"=\",\"0\").str.replace(\",\",\".\").str.replace(\"(\",\"\").str.replace(\")\",\"\").str.replace(\"%\",\"\").str.split(expand=True).fillna(\"0\")], axis=1)"
   ]
  },
  {
   "cell_type": "code",
   "execution_count": 8,
   "metadata": {},
   "outputs": [],
   "source": [
    "# Renombramos las nuevas columnas\n",
    "df_complete = df_complete.rename({0: 'abs_variacion', 1: 'precent_variacion'}, axis=1).drop(columns='Variación')"
   ]
  },
  {
   "cell_type": "code",
   "execution_count": 9,
   "metadata": {},
   "outputs": [
    {
     "data": {
      "text/plain": [
       "Index(['Día', 'Precio (€)', 'Nombre', 'Subcategoria', 'Categoria',\n",
       "       'Supermercado', 'abs_variacion', 'precent_variacion'],\n",
       "      dtype='object')"
      ]
     },
     "execution_count": 9,
     "metadata": {},
     "output_type": "execute_result"
    }
   ],
   "source": [
    "df_complete.columns"
   ]
  },
  {
   "cell_type": "markdown",
   "metadata": {},
   "source": [
    "Reordenamos las columnas "
   ]
  },
  {
   "cell_type": "code",
   "execution_count": 10,
   "metadata": {},
   "outputs": [],
   "source": [
    "columnas = df_complete.columns\n",
    "orden = [2, 0, 1, -2, -1, 3, 4, 5]\n",
    "columnas_reordenadas = [columnas[i] for i in orden]"
   ]
  },
  {
   "cell_type": "code",
   "execution_count": 11,
   "metadata": {},
   "outputs": [],
   "source": [
    "df_complete = df_complete.reindex(columns=columnas_reordenadas).reset_index(drop=True)"
   ]
  },
  {
   "cell_type": "markdown",
   "metadata": {},
   "source": [
    "Convertimos cantidades"
   ]
  },
  {
   "cell_type": "code",
   "execution_count": 12,
   "metadata": {},
   "outputs": [],
   "source": [
    "df_complete[\"abs_variacion\"] = df_complete[\"abs_variacion\"].astype(float)\n",
    "df_complete[\"precent_variacion\"] = df_complete[\"precent_variacion\"].astype(float)"
   ]
  },
  {
   "cell_type": "code",
   "execution_count": 13,
   "metadata": {},
   "outputs": [],
   "source": [
    "df_complete[\"Día\"] = df_complete[\"Día\"].map(lambda x: pd.to_datetime(x, format='%d/%m/%Y'))"
   ]
  },
  {
   "cell_type": "markdown",
   "metadata": {},
   "source": [
    "Extraemos las cantidades de los nombres de los productos"
   ]
  },
  {
   "cell_type": "code",
   "execution_count": 14,
   "metadata": {},
   "outputs": [],
   "source": [
    "df_complete[[\"Cantidad\", \"Unidad\"]] = df_complete[\"Nombre\"].apply(extraer_cantidad).tolist()"
   ]
  },
  {
   "cell_type": "markdown",
   "metadata": {},
   "source": [
    "Por último corregimos el signo de las variaciones percentuales"
   ]
  },
  {
   "cell_type": "code",
   "execution_count": 15,
   "metadata": {},
   "outputs": [],
   "source": [
    "df_complete.loc[df_complete[\"abs_variacion\"] < 0, \"precent_variacion\"] *= -1"
   ]
  },
  {
   "cell_type": "markdown",
   "metadata": {},
   "source": [
    "Guardamos en un csv para uso posterior"
   ]
  },
  {
   "cell_type": "code",
   "execution_count": 16,
   "metadata": {},
   "outputs": [],
   "source": [
    "df_complete.to_csv('../datos/df_complete.csv')"
   ]
  }
 ],
 "metadata": {
  "kernelspec": {
   "display_name": "analisis-supermercados",
   "language": "python",
   "name": "python3"
  },
  "language_info": {
   "codemirror_mode": {
    "name": "ipython",
    "version": 3
   },
   "file_extension": ".py",
   "mimetype": "text/x-python",
   "name": "python",
   "nbconvert_exporter": "python",
   "pygments_lexer": "ipython3",
   "version": "3.11.9"
  }
 },
 "nbformat": 4,
 "nbformat_minor": 2
}
