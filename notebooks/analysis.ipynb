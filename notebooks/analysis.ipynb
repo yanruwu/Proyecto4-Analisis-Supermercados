{
 "cells": [
  {
   "cell_type": "code",
   "execution_count": 104,
   "metadata": {},
   "outputs": [],
   "source": [
    "import sys\n",
    "sys.path.append(\"..\")\n",
    "from src.query_funcs import *\n",
    "import pandas as pd\n",
    "import matplotlib.pyplot as plt\n",
    "import seaborn as sns\n",
    "import plotly.express as px"
   ]
  },
  {
   "cell_type": "code",
   "execution_count": 61,
   "metadata": {},
   "outputs": [],
   "source": [
    "df = pd.read_csv(\"../datos/df_complete.csv\", index_col=0)"
   ]
  },
  {
   "cell_type": "code",
   "execution_count": 62,
   "metadata": {},
   "outputs": [
    {
     "data": {
      "text/plain": [
       "154.32"
      ]
     },
     "execution_count": 62,
     "metadata": {},
     "output_type": "execute_result"
    }
   ],
   "source": [
    "df[\"Precio (€)\"].max()"
   ]
  },
  {
   "cell_type": "code",
   "execution_count": 111,
   "metadata": {},
   "outputs": [],
   "source": [
    "\n",
    "conexion = conectar()\n",
    "result = query_fetch(conexion, query_text='''select s.nombre AS nombre_supermercado,\n",
    "\tc.nombre as nombre_categoria,\n",
    "    count(distinct p.nombre) as n_productos\n",
    "from productos p\n",
    "join supermercado s on p.id_supermercado = s.id_supermercado\n",
    "join subcategorias sc on sc.id_subcat = p.id_subcat \n",
    "join categorias c on c.id_categoria = sc.id_categoria \n",
    "group by\n",
    "    s.nombre, c.nombre\n",
    "order by \n",
    "    n_productos DESC;''')\n",
    "\n",
    "result_df = pd.DataFrame(result)\n",
    "result_df.rename(columns=dict(enumerate([\"Supermercado\", \"Categoria\", \"N de productos\"])), inplace=True)\n",
    "# result_df\n",
    "\n"
   ]
  },
  {
   "cell_type": "code",
   "execution_count": 120,
   "metadata": {},
   "outputs": [
    {
     "name": "stderr",
     "output_type": "stream",
     "text": [
      "c:\\Python311\\Lib\\site-packages\\plotly\\express\\_core.py:2065: FutureWarning:\n",
      "\n",
      "When grouping with a length-1 list-like, you will need to pass a length-1 tuple to get_group in a future version of pandas. Pass `(name,)` instead of `name` to silence this warning.\n",
      "\n"
     ]
    },
    {
     "data": {
      "application/vnd.plotly.v1+json": {
       "config": {
        "plotlyServerURL": "https://plot.ly"
       },
       "data": [
        {
         "alignmentgroup": "True",
         "hovertemplate": "Categoria=Aceite de oliva<br>Supermercado=%{x}<br>N de productos=%{y}<extra></extra>",
         "legendgroup": "Aceite de oliva",
         "marker": {
          "color": "#636efa",
          "pattern": {
           "shape": ""
          }
         },
         "name": "Aceite de oliva",
         "offsetgroup": "Aceite de oliva",
         "orientation": "v",
         "showlegend": true,
         "textposition": "auto",
         "type": "bar",
         "x": [
          "hipercor",
          "alcampo",
          "carrefour",
          "eroski",
          "dia",
          "mercadona"
         ],
         "xaxis": "x",
         "y": [
          248,
          137,
          94,
          86,
          35,
          9
         ],
         "yaxis": "y"
        },
        {
         "alignmentgroup": "True",
         "hovertemplate": "Categoria=Leche<br>Supermercado=%{x}<br>N de productos=%{y}<extra></extra>",
         "legendgroup": "Leche",
         "marker": {
          "color": "#EF553B",
          "pattern": {
           "shape": ""
          }
         },
         "name": "Leche",
         "offsetgroup": "Leche",
         "orientation": "v",
         "showlegend": true,
         "textposition": "auto",
         "type": "bar",
         "x": [
          "hipercor",
          "alcampo",
          "carrefour",
          "eroski",
          "dia",
          "mercadona"
         ],
         "xaxis": "x",
         "y": [
          246,
          203,
          149,
          141,
          85,
          27
         ],
         "yaxis": "y"
        },
        {
         "alignmentgroup": "True",
         "hovertemplate": "Categoria=Aceite de girasol<br>Supermercado=%{x}<br>N de productos=%{y}<extra></extra>",
         "legendgroup": "Aceite de girasol",
         "marker": {
          "color": "#00cc96",
          "pattern": {
           "shape": ""
          }
         },
         "name": "Aceite de girasol",
         "offsetgroup": "Aceite de girasol",
         "orientation": "v",
         "showlegend": true,
         "textposition": "auto",
         "type": "bar",
         "x": [
          "alcampo",
          "carrefour",
          "eroski",
          "hipercor",
          "dia",
          "mercadona"
         ],
         "xaxis": "x",
         "y": [
          17,
          15,
          12,
          11,
          7,
          2
         ],
         "yaxis": "y"
        }
       ],
       "layout": {
        "barmode": "relative",
        "legend": {
         "title": {
          "text": "Categoria"
         },
         "tracegroupgap": 0
        },
        "template": {
         "data": {
          "bar": [
           {
            "error_x": {
             "color": "#2a3f5f"
            },
            "error_y": {
             "color": "#2a3f5f"
            },
            "marker": {
             "line": {
              "color": "#E5ECF6",
              "width": 0.5
             },
             "pattern": {
              "fillmode": "overlay",
              "size": 10,
              "solidity": 0.2
             }
            },
            "type": "bar"
           }
          ],
          "barpolar": [
           {
            "marker": {
             "line": {
              "color": "#E5ECF6",
              "width": 0.5
             },
             "pattern": {
              "fillmode": "overlay",
              "size": 10,
              "solidity": 0.2
             }
            },
            "type": "barpolar"
           }
          ],
          "carpet": [
           {
            "aaxis": {
             "endlinecolor": "#2a3f5f",
             "gridcolor": "white",
             "linecolor": "white",
             "minorgridcolor": "white",
             "startlinecolor": "#2a3f5f"
            },
            "baxis": {
             "endlinecolor": "#2a3f5f",
             "gridcolor": "white",
             "linecolor": "white",
             "minorgridcolor": "white",
             "startlinecolor": "#2a3f5f"
            },
            "type": "carpet"
           }
          ],
          "choropleth": [
           {
            "colorbar": {
             "outlinewidth": 0,
             "ticks": ""
            },
            "type": "choropleth"
           }
          ],
          "contour": [
           {
            "colorbar": {
             "outlinewidth": 0,
             "ticks": ""
            },
            "colorscale": [
             [
              0,
              "#0d0887"
             ],
             [
              0.1111111111111111,
              "#46039f"
             ],
             [
              0.2222222222222222,
              "#7201a8"
             ],
             [
              0.3333333333333333,
              "#9c179e"
             ],
             [
              0.4444444444444444,
              "#bd3786"
             ],
             [
              0.5555555555555556,
              "#d8576b"
             ],
             [
              0.6666666666666666,
              "#ed7953"
             ],
             [
              0.7777777777777778,
              "#fb9f3a"
             ],
             [
              0.8888888888888888,
              "#fdca26"
             ],
             [
              1,
              "#f0f921"
             ]
            ],
            "type": "contour"
           }
          ],
          "contourcarpet": [
           {
            "colorbar": {
             "outlinewidth": 0,
             "ticks": ""
            },
            "type": "contourcarpet"
           }
          ],
          "heatmap": [
           {
            "colorbar": {
             "outlinewidth": 0,
             "ticks": ""
            },
            "colorscale": [
             [
              0,
              "#0d0887"
             ],
             [
              0.1111111111111111,
              "#46039f"
             ],
             [
              0.2222222222222222,
              "#7201a8"
             ],
             [
              0.3333333333333333,
              "#9c179e"
             ],
             [
              0.4444444444444444,
              "#bd3786"
             ],
             [
              0.5555555555555556,
              "#d8576b"
             ],
             [
              0.6666666666666666,
              "#ed7953"
             ],
             [
              0.7777777777777778,
              "#fb9f3a"
             ],
             [
              0.8888888888888888,
              "#fdca26"
             ],
             [
              1,
              "#f0f921"
             ]
            ],
            "type": "heatmap"
           }
          ],
          "heatmapgl": [
           {
            "colorbar": {
             "outlinewidth": 0,
             "ticks": ""
            },
            "colorscale": [
             [
              0,
              "#0d0887"
             ],
             [
              0.1111111111111111,
              "#46039f"
             ],
             [
              0.2222222222222222,
              "#7201a8"
             ],
             [
              0.3333333333333333,
              "#9c179e"
             ],
             [
              0.4444444444444444,
              "#bd3786"
             ],
             [
              0.5555555555555556,
              "#d8576b"
             ],
             [
              0.6666666666666666,
              "#ed7953"
             ],
             [
              0.7777777777777778,
              "#fb9f3a"
             ],
             [
              0.8888888888888888,
              "#fdca26"
             ],
             [
              1,
              "#f0f921"
             ]
            ],
            "type": "heatmapgl"
           }
          ],
          "histogram": [
           {
            "marker": {
             "pattern": {
              "fillmode": "overlay",
              "size": 10,
              "solidity": 0.2
             }
            },
            "type": "histogram"
           }
          ],
          "histogram2d": [
           {
            "colorbar": {
             "outlinewidth": 0,
             "ticks": ""
            },
            "colorscale": [
             [
              0,
              "#0d0887"
             ],
             [
              0.1111111111111111,
              "#46039f"
             ],
             [
              0.2222222222222222,
              "#7201a8"
             ],
             [
              0.3333333333333333,
              "#9c179e"
             ],
             [
              0.4444444444444444,
              "#bd3786"
             ],
             [
              0.5555555555555556,
              "#d8576b"
             ],
             [
              0.6666666666666666,
              "#ed7953"
             ],
             [
              0.7777777777777778,
              "#fb9f3a"
             ],
             [
              0.8888888888888888,
              "#fdca26"
             ],
             [
              1,
              "#f0f921"
             ]
            ],
            "type": "histogram2d"
           }
          ],
          "histogram2dcontour": [
           {
            "colorbar": {
             "outlinewidth": 0,
             "ticks": ""
            },
            "colorscale": [
             [
              0,
              "#0d0887"
             ],
             [
              0.1111111111111111,
              "#46039f"
             ],
             [
              0.2222222222222222,
              "#7201a8"
             ],
             [
              0.3333333333333333,
              "#9c179e"
             ],
             [
              0.4444444444444444,
              "#bd3786"
             ],
             [
              0.5555555555555556,
              "#d8576b"
             ],
             [
              0.6666666666666666,
              "#ed7953"
             ],
             [
              0.7777777777777778,
              "#fb9f3a"
             ],
             [
              0.8888888888888888,
              "#fdca26"
             ],
             [
              1,
              "#f0f921"
             ]
            ],
            "type": "histogram2dcontour"
           }
          ],
          "mesh3d": [
           {
            "colorbar": {
             "outlinewidth": 0,
             "ticks": ""
            },
            "type": "mesh3d"
           }
          ],
          "parcoords": [
           {
            "line": {
             "colorbar": {
              "outlinewidth": 0,
              "ticks": ""
             }
            },
            "type": "parcoords"
           }
          ],
          "pie": [
           {
            "automargin": true,
            "type": "pie"
           }
          ],
          "scatter": [
           {
            "fillpattern": {
             "fillmode": "overlay",
             "size": 10,
             "solidity": 0.2
            },
            "type": "scatter"
           }
          ],
          "scatter3d": [
           {
            "line": {
             "colorbar": {
              "outlinewidth": 0,
              "ticks": ""
             }
            },
            "marker": {
             "colorbar": {
              "outlinewidth": 0,
              "ticks": ""
             }
            },
            "type": "scatter3d"
           }
          ],
          "scattercarpet": [
           {
            "marker": {
             "colorbar": {
              "outlinewidth": 0,
              "ticks": ""
             }
            },
            "type": "scattercarpet"
           }
          ],
          "scattergeo": [
           {
            "marker": {
             "colorbar": {
              "outlinewidth": 0,
              "ticks": ""
             }
            },
            "type": "scattergeo"
           }
          ],
          "scattergl": [
           {
            "marker": {
             "colorbar": {
              "outlinewidth": 0,
              "ticks": ""
             }
            },
            "type": "scattergl"
           }
          ],
          "scattermapbox": [
           {
            "marker": {
             "colorbar": {
              "outlinewidth": 0,
              "ticks": ""
             }
            },
            "type": "scattermapbox"
           }
          ],
          "scatterpolar": [
           {
            "marker": {
             "colorbar": {
              "outlinewidth": 0,
              "ticks": ""
             }
            },
            "type": "scatterpolar"
           }
          ],
          "scatterpolargl": [
           {
            "marker": {
             "colorbar": {
              "outlinewidth": 0,
              "ticks": ""
             }
            },
            "type": "scatterpolargl"
           }
          ],
          "scatterternary": [
           {
            "marker": {
             "colorbar": {
              "outlinewidth": 0,
              "ticks": ""
             }
            },
            "type": "scatterternary"
           }
          ],
          "surface": [
           {
            "colorbar": {
             "outlinewidth": 0,
             "ticks": ""
            },
            "colorscale": [
             [
              0,
              "#0d0887"
             ],
             [
              0.1111111111111111,
              "#46039f"
             ],
             [
              0.2222222222222222,
              "#7201a8"
             ],
             [
              0.3333333333333333,
              "#9c179e"
             ],
             [
              0.4444444444444444,
              "#bd3786"
             ],
             [
              0.5555555555555556,
              "#d8576b"
             ],
             [
              0.6666666666666666,
              "#ed7953"
             ],
             [
              0.7777777777777778,
              "#fb9f3a"
             ],
             [
              0.8888888888888888,
              "#fdca26"
             ],
             [
              1,
              "#f0f921"
             ]
            ],
            "type": "surface"
           }
          ],
          "table": [
           {
            "cells": {
             "fill": {
              "color": "#EBF0F8"
             },
             "line": {
              "color": "white"
             }
            },
            "header": {
             "fill": {
              "color": "#C8D4E3"
             },
             "line": {
              "color": "white"
             }
            },
            "type": "table"
           }
          ]
         },
         "layout": {
          "annotationdefaults": {
           "arrowcolor": "#2a3f5f",
           "arrowhead": 0,
           "arrowwidth": 1
          },
          "autotypenumbers": "strict",
          "coloraxis": {
           "colorbar": {
            "outlinewidth": 0,
            "ticks": ""
           }
          },
          "colorscale": {
           "diverging": [
            [
             0,
             "#8e0152"
            ],
            [
             0.1,
             "#c51b7d"
            ],
            [
             0.2,
             "#de77ae"
            ],
            [
             0.3,
             "#f1b6da"
            ],
            [
             0.4,
             "#fde0ef"
            ],
            [
             0.5,
             "#f7f7f7"
            ],
            [
             0.6,
             "#e6f5d0"
            ],
            [
             0.7,
             "#b8e186"
            ],
            [
             0.8,
             "#7fbc41"
            ],
            [
             0.9,
             "#4d9221"
            ],
            [
             1,
             "#276419"
            ]
           ],
           "sequential": [
            [
             0,
             "#0d0887"
            ],
            [
             0.1111111111111111,
             "#46039f"
            ],
            [
             0.2222222222222222,
             "#7201a8"
            ],
            [
             0.3333333333333333,
             "#9c179e"
            ],
            [
             0.4444444444444444,
             "#bd3786"
            ],
            [
             0.5555555555555556,
             "#d8576b"
            ],
            [
             0.6666666666666666,
             "#ed7953"
            ],
            [
             0.7777777777777778,
             "#fb9f3a"
            ],
            [
             0.8888888888888888,
             "#fdca26"
            ],
            [
             1,
             "#f0f921"
            ]
           ],
           "sequentialminus": [
            [
             0,
             "#0d0887"
            ],
            [
             0.1111111111111111,
             "#46039f"
            ],
            [
             0.2222222222222222,
             "#7201a8"
            ],
            [
             0.3333333333333333,
             "#9c179e"
            ],
            [
             0.4444444444444444,
             "#bd3786"
            ],
            [
             0.5555555555555556,
             "#d8576b"
            ],
            [
             0.6666666666666666,
             "#ed7953"
            ],
            [
             0.7777777777777778,
             "#fb9f3a"
            ],
            [
             0.8888888888888888,
             "#fdca26"
            ],
            [
             1,
             "#f0f921"
            ]
           ]
          },
          "colorway": [
           "#636efa",
           "#EF553B",
           "#00cc96",
           "#ab63fa",
           "#FFA15A",
           "#19d3f3",
           "#FF6692",
           "#B6E880",
           "#FF97FF",
           "#FECB52"
          ],
          "font": {
           "color": "#2a3f5f"
          },
          "geo": {
           "bgcolor": "white",
           "lakecolor": "white",
           "landcolor": "#E5ECF6",
           "showlakes": true,
           "showland": true,
           "subunitcolor": "white"
          },
          "hoverlabel": {
           "align": "left"
          },
          "hovermode": "closest",
          "mapbox": {
           "style": "light"
          },
          "paper_bgcolor": "white",
          "plot_bgcolor": "#E5ECF6",
          "polar": {
           "angularaxis": {
            "gridcolor": "white",
            "linecolor": "white",
            "ticks": ""
           },
           "bgcolor": "#E5ECF6",
           "radialaxis": {
            "gridcolor": "white",
            "linecolor": "white",
            "ticks": ""
           }
          },
          "scene": {
           "xaxis": {
            "backgroundcolor": "#E5ECF6",
            "gridcolor": "white",
            "gridwidth": 2,
            "linecolor": "white",
            "showbackground": true,
            "ticks": "",
            "zerolinecolor": "white"
           },
           "yaxis": {
            "backgroundcolor": "#E5ECF6",
            "gridcolor": "white",
            "gridwidth": 2,
            "linecolor": "white",
            "showbackground": true,
            "ticks": "",
            "zerolinecolor": "white"
           },
           "zaxis": {
            "backgroundcolor": "#E5ECF6",
            "gridcolor": "white",
            "gridwidth": 2,
            "linecolor": "white",
            "showbackground": true,
            "ticks": "",
            "zerolinecolor": "white"
           }
          },
          "shapedefaults": {
           "line": {
            "color": "#2a3f5f"
           }
          },
          "ternary": {
           "aaxis": {
            "gridcolor": "white",
            "linecolor": "white",
            "ticks": ""
           },
           "baxis": {
            "gridcolor": "white",
            "linecolor": "white",
            "ticks": ""
           },
           "bgcolor": "#E5ECF6",
           "caxis": {
            "gridcolor": "white",
            "linecolor": "white",
            "ticks": ""
           }
          },
          "title": {
           "x": 0.05
          },
          "xaxis": {
           "automargin": true,
           "gridcolor": "white",
           "linecolor": "white",
           "ticks": "",
           "title": {
            "standoff": 15
           },
           "zerolinecolor": "white",
           "zerolinewidth": 2
          },
          "yaxis": {
           "automargin": true,
           "gridcolor": "white",
           "linecolor": "white",
           "ticks": "",
           "title": {
            "standoff": 15
           },
           "zerolinecolor": "white",
           "zerolinewidth": 2
          }
         }
        },
        "title": {
         "text": "Conteo de artículos por supermercado"
        },
        "xaxis": {
         "anchor": "y",
         "domain": [
          0,
          1
         ],
         "title": {
          "text": "Supermercado"
         }
        },
        "yaxis": {
         "anchor": "x",
         "domain": [
          0,
          1
         ],
         "title": {
          "text": "N de productos"
         }
        }
       }
      }
     },
     "metadata": {},
     "output_type": "display_data"
    }
   ],
   "source": [
    "px.bar(result_df, x = \"Supermercado\", y = \"N de productos\", color=\"Categoria\", title =\"Conteo de artículos por supermercado\")"
   ]
  },
  {
   "cell_type": "code",
   "execution_count": 64,
   "metadata": {},
   "outputs": [
    {
     "data": {
      "text/html": [
       "<div>\n",
       "<style scoped>\n",
       "    .dataframe tbody tr th:only-of-type {\n",
       "        vertical-align: middle;\n",
       "    }\n",
       "\n",
       "    .dataframe tbody tr th {\n",
       "        vertical-align: top;\n",
       "    }\n",
       "\n",
       "    .dataframe thead tr th {\n",
       "        text-align: left;\n",
       "    }\n",
       "\n",
       "    .dataframe thead tr:last-of-type th {\n",
       "        text-align: right;\n",
       "    }\n",
       "</style>\n",
       "<table border=\"1\" class=\"dataframe\">\n",
       "  <thead>\n",
       "    <tr>\n",
       "      <th></th>\n",
       "      <th></th>\n",
       "      <th colspan=\"9\" halign=\"left\">Precio (€)</th>\n",
       "      <th colspan=\"5\" halign=\"left\">Nombre</th>\n",
       "    </tr>\n",
       "    <tr>\n",
       "      <th></th>\n",
       "      <th></th>\n",
       "      <th colspan=\"8\" halign=\"left\">describe</th>\n",
       "      <th>nunique</th>\n",
       "      <th colspan=\"4\" halign=\"left\">describe</th>\n",
       "      <th>nunique</th>\n",
       "    </tr>\n",
       "    <tr>\n",
       "      <th></th>\n",
       "      <th></th>\n",
       "      <th>count</th>\n",
       "      <th>mean</th>\n",
       "      <th>std</th>\n",
       "      <th>min</th>\n",
       "      <th>25%</th>\n",
       "      <th>50%</th>\n",
       "      <th>75%</th>\n",
       "      <th>max</th>\n",
       "      <th>Precio (€)</th>\n",
       "      <th>count</th>\n",
       "      <th>unique</th>\n",
       "      <th>top</th>\n",
       "      <th>freq</th>\n",
       "      <th>Nombre</th>\n",
       "    </tr>\n",
       "    <tr>\n",
       "      <th>Categoria</th>\n",
       "      <th>Supermercado</th>\n",
       "      <th></th>\n",
       "      <th></th>\n",
       "      <th></th>\n",
       "      <th></th>\n",
       "      <th></th>\n",
       "      <th></th>\n",
       "      <th></th>\n",
       "      <th></th>\n",
       "      <th></th>\n",
       "      <th></th>\n",
       "      <th></th>\n",
       "      <th></th>\n",
       "      <th></th>\n",
       "      <th></th>\n",
       "    </tr>\n",
       "  </thead>\n",
       "  <tbody>\n",
       "    <tr>\n",
       "      <th rowspan=\"6\" valign=\"top\">Aceite de girasol</th>\n",
       "      <th>alcampo</th>\n",
       "      <td>1646.0</td>\n",
       "      <td>4.131640</td>\n",
       "      <td>3.852071</td>\n",
       "      <td>1.00</td>\n",
       "      <td>1.8425</td>\n",
       "      <td>2.340</td>\n",
       "      <td>5.88</td>\n",
       "      <td>15.88</td>\n",
       "      <td>58</td>\n",
       "      <td>1646</td>\n",
       "      <td>17</td>\n",
       "      <td>KOIPESOL Aceite de girasol botella de 1 l. en ...</td>\n",
       "      <td>127</td>\n",
       "      <td>17</td>\n",
       "    </tr>\n",
       "    <tr>\n",
       "      <th>carrefour</th>\n",
       "      <td>1302.0</td>\n",
       "      <td>8.183978</td>\n",
       "      <td>8.909639</td>\n",
       "      <td>1.45</td>\n",
       "      <td>2.2900</td>\n",
       "      <td>6.750</td>\n",
       "      <td>10.55</td>\n",
       "      <td>40.67</td>\n",
       "      <td>43</td>\n",
       "      <td>1302</td>\n",
       "      <td>15</td>\n",
       "      <td>Aceite de girasol Fontasol 5 l. en Carrefour</td>\n",
       "      <td>90</td>\n",
       "      <td>15</td>\n",
       "    </tr>\n",
       "    <tr>\n",
       "      <th>dia</th>\n",
       "      <td>701.0</td>\n",
       "      <td>5.100328</td>\n",
       "      <td>3.340066</td>\n",
       "      <td>1.49</td>\n",
       "      <td>2.0400</td>\n",
       "      <td>2.690</td>\n",
       "      <td>8.75</td>\n",
       "      <td>10.99</td>\n",
       "      <td>19</td>\n",
       "      <td>701</td>\n",
       "      <td>7</td>\n",
       "      <td>Aceite de girasol Coosol garrafa 5 l en Dia</td>\n",
       "      <td>107</td>\n",
       "      <td>7</td>\n",
       "    </tr>\n",
       "    <tr>\n",
       "      <th>eroski</th>\n",
       "      <td>1264.0</td>\n",
       "      <td>3.522112</td>\n",
       "      <td>2.806732</td>\n",
       "      <td>1.39</td>\n",
       "      <td>1.6900</td>\n",
       "      <td>2.390</td>\n",
       "      <td>3.12</td>\n",
       "      <td>11.99</td>\n",
       "      <td>39</td>\n",
       "      <td>1264</td>\n",
       "      <td>12</td>\n",
       "      <td>Aceite alto oleico EROSKI, botella 1 litro en ...</td>\n",
       "      <td>106</td>\n",
       "      <td>12</td>\n",
       "    </tr>\n",
       "    <tr>\n",
       "      <th>hipercor</th>\n",
       "      <td>1018.0</td>\n",
       "      <td>3.613664</td>\n",
       "      <td>2.609914</td>\n",
       "      <td>1.40</td>\n",
       "      <td>2.3900</td>\n",
       "      <td>2.990</td>\n",
       "      <td>3.39</td>\n",
       "      <td>12.79</td>\n",
       "      <td>31</td>\n",
       "      <td>1018</td>\n",
       "      <td>11</td>\n",
       "      <td>EL CORTE INGLES aceite refinado de girasol bot...</td>\n",
       "      <td>94</td>\n",
       "      <td>11</td>\n",
       "    </tr>\n",
       "    <tr>\n",
       "      <th>mercadona</th>\n",
       "      <td>214.0</td>\n",
       "      <td>4.123084</td>\n",
       "      <td>2.672503</td>\n",
       "      <td>1.45</td>\n",
       "      <td>1.4500</td>\n",
       "      <td>4.115</td>\n",
       "      <td>6.75</td>\n",
       "      <td>6.91</td>\n",
       "      <td>4</td>\n",
       "      <td>214</td>\n",
       "      <td>2</td>\n",
       "      <td>Aceite de girasol refinado 0,2º Hacendado 1 l....</td>\n",
       "      <td>107</td>\n",
       "      <td>2</td>\n",
       "    </tr>\n",
       "    <tr>\n",
       "      <th rowspan=\"6\" valign=\"top\">Aceite de oliva</th>\n",
       "      <th>alcampo</th>\n",
       "      <td>12866.0</td>\n",
       "      <td>23.435565</td>\n",
       "      <td>18.618324</td>\n",
       "      <td>2.83</td>\n",
       "      <td>8.7400</td>\n",
       "      <td>12.370</td>\n",
       "      <td>41.85</td>\n",
       "      <td>62.99</td>\n",
       "      <td>291</td>\n",
       "      <td>12866</td>\n",
       "      <td>137</td>\n",
       "      <td>CARBONELL Aceite de oliva suave garrafa de 5 l...</td>\n",
       "      <td>250</td>\n",
       "      <td>137</td>\n",
       "    </tr>\n",
       "    <tr>\n",
       "      <th>carrefour</th>\n",
       "      <td>8523.0</td>\n",
       "      <td>17.998559</td>\n",
       "      <td>15.124312</td>\n",
       "      <td>2.85</td>\n",
       "      <td>8.1500</td>\n",
       "      <td>12.450</td>\n",
       "      <td>15.39</td>\n",
       "      <td>63.50</td>\n",
       "      <td>285</td>\n",
       "      <td>8523</td>\n",
       "      <td>94</td>\n",
       "      <td>Aceite de oliva virgen extra Oda a Nuestra Tie...</td>\n",
       "      <td>110</td>\n",
       "      <td>94</td>\n",
       "    </tr>\n",
       "    <tr>\n",
       "      <th>dia</th>\n",
       "      <td>3516.0</td>\n",
       "      <td>13.201638</td>\n",
       "      <td>9.088147</td>\n",
       "      <td>2.85</td>\n",
       "      <td>7.6100</td>\n",
       "      <td>10.580</td>\n",
       "      <td>13.90</td>\n",
       "      <td>39.65</td>\n",
       "      <td>98</td>\n",
       "      <td>3516</td>\n",
       "      <td>35</td>\n",
       "      <td>Aceite de oliva intenso Carbonell botella 1 l ...</td>\n",
       "      <td>110</td>\n",
       "      <td>35</td>\n",
       "    </tr>\n",
       "    <tr>\n",
       "      <th>eroski</th>\n",
       "      <td>6462.0</td>\n",
       "      <td>13.784407</td>\n",
       "      <td>11.329569</td>\n",
       "      <td>2.49</td>\n",
       "      <td>8.0500</td>\n",
       "      <td>9.990</td>\n",
       "      <td>13.76</td>\n",
       "      <td>64.59</td>\n",
       "      <td>210</td>\n",
       "      <td>6462</td>\n",
       "      <td>86</td>\n",
       "      <td>Aceite de oliva virgen extra EROSKI, botella 1...</td>\n",
       "      <td>124</td>\n",
       "      <td>86</td>\n",
       "    </tr>\n",
       "    <tr>\n",
       "      <th>hipercor</th>\n",
       "      <td>21059.0</td>\n",
       "      <td>20.040359</td>\n",
       "      <td>17.958017</td>\n",
       "      <td>1.75</td>\n",
       "      <td>9.1500</td>\n",
       "      <td>12.370</td>\n",
       "      <td>24.72</td>\n",
       "      <td>154.32</td>\n",
       "      <td>541</td>\n",
       "      <td>21059</td>\n",
       "      <td>248</td>\n",
       "      <td>Aceite de oliva virgen extra Picual Casa Junca...</td>\n",
       "      <td>121</td>\n",
       "      <td>248</td>\n",
       "    </tr>\n",
       "    <tr>\n",
       "      <th>mercadona</th>\n",
       "      <td>1137.0</td>\n",
       "      <td>14.333166</td>\n",
       "      <td>8.445386</td>\n",
       "      <td>2.90</td>\n",
       "      <td>7.6000</td>\n",
       "      <td>8.950</td>\n",
       "      <td>22.76</td>\n",
       "      <td>28.80</td>\n",
       "      <td>39</td>\n",
       "      <td>1137</td>\n",
       "      <td>9</td>\n",
       "      <td>Aceite de oliva intenso Hacendado 3 l. en Merc...</td>\n",
       "      <td>127</td>\n",
       "      <td>9</td>\n",
       "    </tr>\n",
       "    <tr>\n",
       "      <th rowspan=\"6\" valign=\"top\">Leche</th>\n",
       "      <th>alcampo</th>\n",
       "      <td>18122.0</td>\n",
       "      <td>4.106988</td>\n",
       "      <td>3.615766</td>\n",
       "      <td>0.50</td>\n",
       "      <td>1.2500</td>\n",
       "      <td>1.900</td>\n",
       "      <td>6.54</td>\n",
       "      <td>23.43</td>\n",
       "      <td>173</td>\n",
       "      <td>18122</td>\n",
       "      <td>203</td>\n",
       "      <td>Leche entera fresca Hacendado 1 l. en Alcampo</td>\n",
       "      <td>208</td>\n",
       "      <td>203</td>\n",
       "    </tr>\n",
       "    <tr>\n",
       "      <th>carrefour</th>\n",
       "      <td>7707.0</td>\n",
       "      <td>1.685504</td>\n",
       "      <td>1.449520</td>\n",
       "      <td>0.72</td>\n",
       "      <td>1.1000</td>\n",
       "      <td>1.340</td>\n",
       "      <td>1.75</td>\n",
       "      <td>46.30</td>\n",
       "      <td>159</td>\n",
       "      <td>7707</td>\n",
       "      <td>149</td>\n",
       "      <td>Leche desnatada Central Lechera Asturiana brik...</td>\n",
       "      <td>172</td>\n",
       "      <td>149</td>\n",
       "    </tr>\n",
       "    <tr>\n",
       "      <th>dia</th>\n",
       "      <td>9484.0</td>\n",
       "      <td>4.104039</td>\n",
       "      <td>3.726143</td>\n",
       "      <td>0.69</td>\n",
       "      <td>1.2500</td>\n",
       "      <td>1.760</td>\n",
       "      <td>7.14</td>\n",
       "      <td>14.64</td>\n",
       "      <td>137</td>\n",
       "      <td>9484</td>\n",
       "      <td>85</td>\n",
       "      <td>Leche semidesnatada sin lactosa Pascual brik 6...</td>\n",
       "      <td>208</td>\n",
       "      <td>85</td>\n",
       "    </tr>\n",
       "    <tr>\n",
       "      <th>eroski</th>\n",
       "      <td>13661.0</td>\n",
       "      <td>1.500988</td>\n",
       "      <td>0.662147</td>\n",
       "      <td>0.73</td>\n",
       "      <td>1.1700</td>\n",
       "      <td>1.380</td>\n",
       "      <td>1.69</td>\n",
       "      <td>6.85</td>\n",
       "      <td>111</td>\n",
       "      <td>13661</td>\n",
       "      <td>141</td>\n",
       "      <td>Leche ligera semidesnatada PULEVA DISNEY, brik...</td>\n",
       "      <td>104</td>\n",
       "      <td>141</td>\n",
       "    </tr>\n",
       "    <tr>\n",
       "      <th>hipercor</th>\n",
       "      <td>19104.0</td>\n",
       "      <td>1.605079</td>\n",
       "      <td>1.229970</td>\n",
       "      <td>0.64</td>\n",
       "      <td>1.1800</td>\n",
       "      <td>1.300</td>\n",
       "      <td>1.68</td>\n",
       "      <td>16.95</td>\n",
       "      <td>156</td>\n",
       "      <td>19104</td>\n",
       "      <td>246</td>\n",
       "      <td>ASTURIANA leche desnatada con calcio y vitamin...</td>\n",
       "      <td>93</td>\n",
       "      <td>246</td>\n",
       "    </tr>\n",
       "    <tr>\n",
       "      <th>mercadona</th>\n",
       "      <td>2893.0</td>\n",
       "      <td>3.565963</td>\n",
       "      <td>2.839603</td>\n",
       "      <td>0.77</td>\n",
       "      <td>0.9700</td>\n",
       "      <td>1.600</td>\n",
       "      <td>5.76</td>\n",
       "      <td>9.36</td>\n",
       "      <td>55</td>\n",
       "      <td>2893</td>\n",
       "      <td>27</td>\n",
       "      <td>Leche semidesnatada sin lactosa Hacendado 1 l....</td>\n",
       "      <td>208</td>\n",
       "      <td>27</td>\n",
       "    </tr>\n",
       "  </tbody>\n",
       "</table>\n",
       "</div>"
      ],
      "text/plain": [
       "                               Precio (€)                                      \\\n",
       "                                 describe                                       \n",
       "                                    count       mean        std   min     25%   \n",
       "Categoria         Supermercado                                                  \n",
       "Aceite de girasol alcampo          1646.0   4.131640   3.852071  1.00  1.8425   \n",
       "                  carrefour        1302.0   8.183978   8.909639  1.45  2.2900   \n",
       "                  dia               701.0   5.100328   3.340066  1.49  2.0400   \n",
       "                  eroski           1264.0   3.522112   2.806732  1.39  1.6900   \n",
       "                  hipercor         1018.0   3.613664   2.609914  1.40  2.3900   \n",
       "                  mercadona         214.0   4.123084   2.672503  1.45  1.4500   \n",
       "Aceite de oliva   alcampo         12866.0  23.435565  18.618324  2.83  8.7400   \n",
       "                  carrefour        8523.0  17.998559  15.124312  2.85  8.1500   \n",
       "                  dia              3516.0  13.201638   9.088147  2.85  7.6100   \n",
       "                  eroski           6462.0  13.784407  11.329569  2.49  8.0500   \n",
       "                  hipercor        21059.0  20.040359  17.958017  1.75  9.1500   \n",
       "                  mercadona        1137.0  14.333166   8.445386  2.90  7.6000   \n",
       "Leche             alcampo         18122.0   4.106988   3.615766  0.50  1.2500   \n",
       "                  carrefour        7707.0   1.685504   1.449520  0.72  1.1000   \n",
       "                  dia              9484.0   4.104039   3.726143  0.69  1.2500   \n",
       "                  eroski          13661.0   1.500988   0.662147  0.73  1.1700   \n",
       "                  hipercor        19104.0   1.605079   1.229970  0.64  1.1800   \n",
       "                  mercadona        2893.0   3.565963   2.839603  0.77  0.9700   \n",
       "\n",
       "                                                                   Nombre  \\\n",
       "                                                         nunique describe   \n",
       "                                   50%    75%     max Precio (€)    count   \n",
       "Categoria         Supermercado                                              \n",
       "Aceite de girasol alcampo        2.340   5.88   15.88         58     1646   \n",
       "                  carrefour      6.750  10.55   40.67         43     1302   \n",
       "                  dia            2.690   8.75   10.99         19      701   \n",
       "                  eroski         2.390   3.12   11.99         39     1264   \n",
       "                  hipercor       2.990   3.39   12.79         31     1018   \n",
       "                  mercadona      4.115   6.75    6.91          4      214   \n",
       "Aceite de oliva   alcampo       12.370  41.85   62.99        291    12866   \n",
       "                  carrefour     12.450  15.39   63.50        285     8523   \n",
       "                  dia           10.580  13.90   39.65         98     3516   \n",
       "                  eroski         9.990  13.76   64.59        210     6462   \n",
       "                  hipercor      12.370  24.72  154.32        541    21059   \n",
       "                  mercadona      8.950  22.76   28.80         39     1137   \n",
       "Leche             alcampo        1.900   6.54   23.43        173    18122   \n",
       "                  carrefour      1.340   1.75   46.30        159     7707   \n",
       "                  dia            1.760   7.14   14.64        137     9484   \n",
       "                  eroski         1.380   1.69    6.85        111    13661   \n",
       "                  hipercor       1.300   1.68   16.95        156    19104   \n",
       "                  mercadona      1.600   5.76    9.36         55     2893   \n",
       "\n",
       "                                       \\\n",
       "                                        \n",
       "                               unique   \n",
       "Categoria         Supermercado          \n",
       "Aceite de girasol alcampo          17   \n",
       "                  carrefour        15   \n",
       "                  dia               7   \n",
       "                  eroski           12   \n",
       "                  hipercor         11   \n",
       "                  mercadona         2   \n",
       "Aceite de oliva   alcampo         137   \n",
       "                  carrefour        94   \n",
       "                  dia              35   \n",
       "                  eroski           86   \n",
       "                  hipercor        248   \n",
       "                  mercadona         9   \n",
       "Leche             alcampo         203   \n",
       "                  carrefour       149   \n",
       "                  dia              85   \n",
       "                  eroski          141   \n",
       "                  hipercor        246   \n",
       "                  mercadona        27   \n",
       "\n",
       "                                                                                   \\\n",
       "                                                                                    \n",
       "                                                                              top   \n",
       "Categoria         Supermercado                                                      \n",
       "Aceite de girasol alcampo       KOIPESOL Aceite de girasol botella de 1 l. en ...   \n",
       "                  carrefour          Aceite de girasol Fontasol 5 l. en Carrefour   \n",
       "                  dia                 Aceite de girasol Coosol garrafa 5 l en Dia   \n",
       "                  eroski        Aceite alto oleico EROSKI, botella 1 litro en ...   \n",
       "                  hipercor      EL CORTE INGLES aceite refinado de girasol bot...   \n",
       "                  mercadona     Aceite de girasol refinado 0,2º Hacendado 1 l....   \n",
       "Aceite de oliva   alcampo       CARBONELL Aceite de oliva suave garrafa de 5 l...   \n",
       "                  carrefour     Aceite de oliva virgen extra Oda a Nuestra Tie...   \n",
       "                  dia           Aceite de oliva intenso Carbonell botella 1 l ...   \n",
       "                  eroski        Aceite de oliva virgen extra EROSKI, botella 1...   \n",
       "                  hipercor      Aceite de oliva virgen extra Picual Casa Junca...   \n",
       "                  mercadona     Aceite de oliva intenso Hacendado 3 l. en Merc...   \n",
       "Leche             alcampo           Leche entera fresca Hacendado 1 l. en Alcampo   \n",
       "                  carrefour     Leche desnatada Central Lechera Asturiana brik...   \n",
       "                  dia           Leche semidesnatada sin lactosa Pascual brik 6...   \n",
       "                  eroski        Leche ligera semidesnatada PULEVA DISNEY, brik...   \n",
       "                  hipercor      ASTURIANA leche desnatada con calcio y vitamin...   \n",
       "                  mercadona     Leche semidesnatada sin lactosa Hacendado 1 l....   \n",
       "\n",
       "                                             \n",
       "                                    nunique  \n",
       "                               freq  Nombre  \n",
       "Categoria         Supermercado               \n",
       "Aceite de girasol alcampo       127      17  \n",
       "                  carrefour      90      15  \n",
       "                  dia           107       7  \n",
       "                  eroski        106      12  \n",
       "                  hipercor       94      11  \n",
       "                  mercadona     107       2  \n",
       "Aceite de oliva   alcampo       250     137  \n",
       "                  carrefour     110      94  \n",
       "                  dia           110      35  \n",
       "                  eroski        124      86  \n",
       "                  hipercor      121     248  \n",
       "                  mercadona     127       9  \n",
       "Leche             alcampo       208     203  \n",
       "                  carrefour     172     149  \n",
       "                  dia           208      85  \n",
       "                  eroski        104     141  \n",
       "                  hipercor       93     246  \n",
       "                  mercadona     208      27  "
      ]
     },
     "execution_count": 64,
     "metadata": {},
     "output_type": "execute_result"
    }
   ],
   "source": [
    "df.groupby([\"Categoria\", \"Supermercado\"])[[\"Precio (€)\",\"Nombre\"]].agg([\"describe\", \"nunique\"])\n",
    "\n",
    "# df.groupby([\"Categoria\", \"Supermercado\"])"
   ]
  }
 ],
 "metadata": {
  "kernelspec": {
   "display_name": "Python 3",
   "language": "python",
   "name": "python3"
  },
  "language_info": {
   "codemirror_mode": {
    "name": "ipython",
    "version": 3
   },
   "file_extension": ".py",
   "mimetype": "text/x-python",
   "name": "python",
   "nbconvert_exporter": "python",
   "pygments_lexer": "ipython3",
   "version": "3.11.9"
  }
 },
 "nbformat": 4,
 "nbformat_minor": 2
}
